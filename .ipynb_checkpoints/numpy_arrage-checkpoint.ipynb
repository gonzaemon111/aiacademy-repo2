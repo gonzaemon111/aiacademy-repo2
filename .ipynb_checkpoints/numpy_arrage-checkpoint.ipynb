{
 "cells": [
  {
   "cell_type": "code",
   "execution_count": null,
   "metadata": {},
   "outputs": [],
   "source": [
    "import numpy as  np\n",
    "# データの準備\n",
    "# 等間隔の数字\n",
    "# 0から9までの数字(配列)を生成\n",
    "x = np.arange(10)\n",
    "print(x)\n",
    "\n",
    "# reshape()は配列を形状に変換します\n",
    "x = np.arange(1, 10).reshape(3,3) # 3×3の多次元配列に変換\n",
    "y = np.arange(1, 10).reshape(3,3) # 3×3の多次元配列に変換\n",
    "\"\"\"\n",
    "xを下記のように書き換えることも可能\n",
    "x = np.reshape(x, (3,3))\n",
    "\"\"\"\n",
    "print(x)\n",
    "print(y)\n",
    "\n",
    "print(x + y)\n",
    "print(x - y)\n",
    "print(x * y)"
   ]
  }
 ],
 "metadata": {
  "kernelspec": {
   "display_name": "Python 3",
   "language": "python",
   "name": "python3"
  },
  "language_info": {
   "codemirror_mode": {
    "name": "ipython",
    "version": 3
   },
   "file_extension": ".py",
   "mimetype": "text/x-python",
   "name": "python",
   "nbconvert_exporter": "python",
   "pygments_lexer": "ipython3",
   "version": "3.7.0"
  }
 },
 "nbformat": 4,
 "nbformat_minor": 2
}

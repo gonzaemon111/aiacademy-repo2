{
 "cells": [
  {
   "cell_type": "code",
   "execution_count": 2,
   "metadata": {},
   "outputs": [
    {
     "name": "stdout",
     "output_type": "stream",
     "text": [
      "[1 2 3 4 5]\n",
      "[[1 2]\n",
      " [3 4]\n",
      " [5 6]]\n",
      "2\n"
     ]
    }
   ],
   "source": [
    "import numpy as np\n",
    "\n",
    "n1 = np.array([1,2,3,4,5])\n",
    "print(n1) # [1 2 3 4 5]\n",
    "\n",
    "# 配列の次元数は np.ndim() 関数で取得可能\n",
    "np.ndim(n1) # 1 -> 1次元\n",
    "\n",
    "# 配列の形状取得にはshapeを使う。タプルでかえってくる\n",
    "n1.shape # (5,) # 変数n1の形状を取得\n",
    "\n",
    "\"\"\"\n",
    "2次元配列 (5,3)\n",
    "\n",
    "3次元配列 (5,5,4)\n",
    "\n",
    "1次元でも2次元でも、同様にタプルで結果が返される。\n",
    "\"\"\"\n",
    "\n",
    "# 3行2列の配列（2次元の配列）を作成\n",
    "\n",
    "\"\"\"\n",
    "2次元配列は行列のことを意味します。\n",
    "3 × 2 の配列は、最初の次元に3つ要素があり、\n",
    "次の次元に2つの要素があるという意味。\n",
    "\n",
    "行(row) 配列の横方向\n",
    "列(column) 配列の縦方向\n",
    "\"\"\"\n",
    "\n",
    "n2 = np.array([[1,2], [3,4], [5,6]])\n",
    "print(n2)\n",
    "\n",
    "\"\"\"\n",
    "[[1 2]\n",
    " [3 4]\n",
    " [5 6]]\n",
    "\"\"\"\n",
    "print(n2.ndim) # 2"
   ]
  },
  {
   "cell_type": "code",
   "execution_count": null,
   "metadata": {},
   "outputs": [],
   "source": []
  }
 ],
 "metadata": {
  "kernelspec": {
   "display_name": "Python 3",
   "language": "python",
   "name": "python3"
  },
  "language_info": {
   "codemirror_mode": {
    "name": "ipython",
    "version": 3
   },
   "file_extension": ".py",
   "mimetype": "text/x-python",
   "name": "python",
   "nbconvert_exporter": "python",
   "pygments_lexer": "ipython3",
   "version": "3.7.0"
  }
 },
 "nbformat": 4,
 "nbformat_minor": 2
}

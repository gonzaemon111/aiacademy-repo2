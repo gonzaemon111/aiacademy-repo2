{
 "cells": [
  {
   "cell_type": "code",
   "execution_count": 1,
   "metadata": {},
   "outputs": [
    {
     "name": "stdout",
     "output_type": "stream",
     "text": [
      "[1. 2. 3. 4. 5.]\n",
      "[1 2 3]\n",
      "<class 'numpy.ndarray'>\n"
     ]
    },
    {
     "data": {
      "text/plain": [
       "array([[ 1,  2,  3,  4,  5],\n",
       "       [10, 20, 30, 40, 50]])"
      ]
     },
     "execution_count": 1,
     "metadata": {},
     "output_type": "execute_result"
    }
   ],
   "source": [
    "import numpy as np\n",
    "\n",
    "x = np.array([1.0, 2.0, 3.0, 4.0, 5.0])\n",
    "print(x)\n",
    "# array()は、Pythonのリストを渡すことでNumPy 用の配列(numpy.ndarray)を生成します。\n",
    "\n",
    "x = np.array([1,2,3])\n",
    "print(x) # [1 2 3]\n",
    "print(type(x)) # <class 'numpy.ndarray'>\n",
    "\n",
    "my_list1 = [1,2,3,4,5]\n",
    "my_array1 = np.array(my_list1) # numpyのarrayを作る\n",
    "\n",
    "my_list2 = [10,20,30,40,50]\n",
    "my_lists = [my_list1, my_list2] # リストのリストを作る。\n",
    "my_lists # [[1, 2, 3, 4, 5], [10, 20, 30, 40, 50]] # リストのリストが完成。\n",
    "\n",
    "# my_listsを使ってNumPyのアレイを使る。（多次元配列を作る）\n",
    "my_array2 = np.array(my_lists)\n",
    "\n",
    "my_array2 # 2行5列の配列ができる。"
   ]
  },
  {
   "cell_type": "code",
   "execution_count": null,
   "metadata": {},
   "outputs": [],
   "source": []
  }
 ],
 "metadata": {
  "kernelspec": {
   "display_name": "Python 3",
   "language": "python",
   "name": "python3"
  },
  "language_info": {
   "codemirror_mode": {
    "name": "ipython",
    "version": 3
   },
   "file_extension": ".py",
   "mimetype": "text/x-python",
   "name": "python",
   "nbconvert_exporter": "python",
   "pygments_lexer": "ipython3",
   "version": "3.7.0"
  }
 },
 "nbformat": 4,
 "nbformat_minor": 2
}

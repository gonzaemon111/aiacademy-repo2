{
 "cells": [
  {
   "cell_type": "code",
   "execution_count": 2,
   "metadata": {},
   "outputs": [
    {
     "name": "stdout",
     "output_type": "stream",
     "text": [
      "   名前     役割   身長\n",
      "0  田中   営業部長  178\n",
      "1  山田    広報部  173\n",
      "2  高橋  技術責任者  169\n",
      "----------\n",
      "名前    object\n",
      "役割    object\n",
      "身長     int64\n",
      "dtype: object\n",
      "Index(['名前', '役割', '身長'], dtype='object')\n"
     ]
    }
   ],
   "source": [
    "import pandas as pd\n",
    "df = pd.DataFrame({\n",
    "    '名前' :['田中', '山田', '高橋'],\n",
    "    '役割' : ['営業部長', '広報部', '技術責任者'],\n",
    "    '身長' : [178, 173, 169]\n",
    "    })\n",
    "print(df)\n",
    "print(\"----------\")\n",
    "print(df.dtypes)\n",
    "\n",
    "print(df.columns) # 列ラベルの確認(辞書型のkeyが列ラベル）"
   ]
  },
  {
   "cell_type": "code",
   "execution_count": null,
   "metadata": {},
   "outputs": [],
   "source": []
  }
 ],
 "metadata": {
  "kernelspec": {
   "display_name": "Python 3",
   "language": "python",
   "name": "python3"
  },
  "language_info": {
   "codemirror_mode": {
    "name": "ipython",
    "version": 3
   },
   "file_extension": ".py",
   "mimetype": "text/x-python",
   "name": "python",
   "nbconvert_exporter": "python",
   "pygments_lexer": "ipython3",
   "version": "3.7.0"
  }
 },
 "nbformat": 4,
 "nbformat_minor": 2
}

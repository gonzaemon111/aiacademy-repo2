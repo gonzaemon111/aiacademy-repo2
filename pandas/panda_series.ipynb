{
 "cells": [
  {
   "cell_type": "code",
   "execution_count": 1,
   "metadata": {},
   "outputs": [
    {
     "name": "stdout",
     "output_type": "stream",
     "text": [
      "0    1\n",
      "1    2\n",
      "2    3\n",
      "3    5\n",
      "dtype: int64\n"
     ]
    },
    {
     "data": {
      "text/plain": [
       "'\\n# 左の列は行ラベル\\n\" 右の列はシリーズのデータ\\n0    1\\n1    2\\n2    3\\n3    5\\ndtype: int64 # データの型\\n'"
      ]
     },
     "execution_count": 1,
     "metadata": {},
     "output_type": "execute_result"
    }
   ],
   "source": [
    "import pandas as pd\n",
    "# from pandas import Series\n",
    "\n",
    "s1 = pd.Series([1,2,3,5])\n",
    "print(s1)\n",
    "\n",
    "\"\"\"\n",
    "# 左の列は行ラベル\n",
    "\" 右の列はシリーズのデータ\n",
    "0    1\n",
    "1    2\n",
    "2    3\n",
    "3    5\n",
    "dtype: int64 # データの型\n",
    "\"\"\""
   ]
  },
  {
   "cell_type": "code",
   "execution_count": null,
   "metadata": {},
   "outputs": [],
   "source": []
  }
 ],
 "metadata": {
  "kernelspec": {
   "display_name": "Python 3",
   "language": "python",
   "name": "python3"
  },
  "language_info": {
   "codemirror_mode": {
    "name": "ipython",
    "version": 3
   },
   "file_extension": ".py",
   "mimetype": "text/x-python",
   "name": "python",
   "nbconvert_exporter": "python",
   "pygments_lexer": "ipython3",
   "version": "3.7.0"
  }
 },
 "nbformat": 4,
 "nbformat_minor": 2
}
